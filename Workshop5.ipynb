{
 "cells": [
  {
   "cell_type": "markdown",
   "metadata": {},
   "source": [
    "This week our goal will be to play around with some data for the upcoming election and make predicitons on what the results will be. We'll be going over the numpy polyfit methods and maybe the scipy linear regression if we have time."
   ]
  },
  {
   "cell_type": "code",
   "execution_count": 104,
   "metadata": {
    "collapsed": true
   },
   "outputs": [],
   "source": [
    "import numpy as np\n",
    "import pandas as pd\n",
    "import matplotlib.pyplot as plt\n",
    "%matplotlib inline"
   ]
  },
  {
   "cell_type": "markdown",
   "metadata": {},
   "source": [
    "Read in the excel sheet ElectionData.xlsx\n",
    "\n",
    "\n",
    "Recall that on windows machines the path will be r'C:\\Path_to_file' where Path_to_file is the file path for ElextionData.xlsx\n",
    "\n",
    "\n",
    "All the data is stored in Sheet1 so lets parse the data from there"
   ]
  },
  {
   "cell_type": "code",
   "execution_count": 29,
   "metadata": {
    "collapsed": false
   },
   "outputs": [
    {
     "data": {
      "text/html": [
       "<div>\n",
       "<table border=\"1\" class=\"dataframe\">\n",
       "  <thead>\n",
       "    <tr style=\"text-align: right;\">\n",
       "      <th></th>\n",
       "      <th>Date</th>\n",
       "      <th>RCP Clinton</th>\n",
       "      <th>RCP Trump</th>\n",
       "      <th>538 Clinton</th>\n",
       "      <th>538 Trump</th>\n",
       "    </tr>\n",
       "  </thead>\n",
       "  <tbody>\n",
       "    <tr>\n",
       "      <th>0</th>\n",
       "      <td>2016-07-04</td>\n",
       "      <td>44.9</td>\n",
       "      <td>40.3</td>\n",
       "      <td>48.7</td>\n",
       "      <td>42.2</td>\n",
       "    </tr>\n",
       "    <tr>\n",
       "      <th>1</th>\n",
       "      <td>2016-07-11</td>\n",
       "      <td>45.4</td>\n",
       "      <td>40.9</td>\n",
       "      <td>48.5</td>\n",
       "      <td>42.3</td>\n",
       "    </tr>\n",
       "    <tr>\n",
       "      <th>2</th>\n",
       "      <td>2016-07-18</td>\n",
       "      <td>43.8</td>\n",
       "      <td>40.6</td>\n",
       "      <td>47.1</td>\n",
       "      <td>43.7</td>\n",
       "    </tr>\n",
       "    <tr>\n",
       "      <th>3</th>\n",
       "      <td>2016-07-25</td>\n",
       "      <td>44.1</td>\n",
       "      <td>44.3</td>\n",
       "      <td>46.2</td>\n",
       "      <td>44.8</td>\n",
       "    </tr>\n",
       "    <tr>\n",
       "      <th>4</th>\n",
       "      <td>2016-08-01</td>\n",
       "      <td>45.9</td>\n",
       "      <td>42.0</td>\n",
       "      <td>47.5</td>\n",
       "      <td>44.3</td>\n",
       "    </tr>\n",
       "    <tr>\n",
       "      <th>5</th>\n",
       "      <td>2016-08-08</td>\n",
       "      <td>47.3</td>\n",
       "      <td>40.1</td>\n",
       "      <td>49.9</td>\n",
       "      <td>41.9</td>\n",
       "    </tr>\n",
       "    <tr>\n",
       "      <th>6</th>\n",
       "      <td>2016-08-15</td>\n",
       "      <td>47.8</td>\n",
       "      <td>41.0</td>\n",
       "      <td>49.5</td>\n",
       "      <td>40.9</td>\n",
       "    </tr>\n",
       "    <tr>\n",
       "      <th>7</th>\n",
       "      <td>2016-08-22</td>\n",
       "      <td>47.0</td>\n",
       "      <td>41.5</td>\n",
       "      <td>48.9</td>\n",
       "      <td>41.7</td>\n",
       "    </tr>\n",
       "    <tr>\n",
       "      <th>8</th>\n",
       "      <td>2016-08-29</td>\n",
       "      <td>47.2</td>\n",
       "      <td>41.3</td>\n",
       "      <td>48.5</td>\n",
       "      <td>42.4</td>\n",
       "    </tr>\n",
       "    <tr>\n",
       "      <th>9</th>\n",
       "      <td>2016-09-05</td>\n",
       "      <td>45.9</td>\n",
       "      <td>42.3</td>\n",
       "      <td>47.6</td>\n",
       "      <td>43.2</td>\n",
       "    </tr>\n",
       "    <tr>\n",
       "      <th>10</th>\n",
       "      <td>2016-09-12</td>\n",
       "      <td>45.9</td>\n",
       "      <td>43.1</td>\n",
       "      <td>46.8</td>\n",
       "      <td>43.1</td>\n",
       "    </tr>\n",
       "    <tr>\n",
       "      <th>11</th>\n",
       "      <td>2016-09-19</td>\n",
       "      <td>44.9</td>\n",
       "      <td>44.0</td>\n",
       "      <td>46.6</td>\n",
       "      <td>44.4</td>\n",
       "    </tr>\n",
       "    <tr>\n",
       "      <th>12</th>\n",
       "      <td>2016-09-26</td>\n",
       "      <td>46.6</td>\n",
       "      <td>43.3</td>\n",
       "      <td>46.4</td>\n",
       "      <td>44.9</td>\n",
       "    </tr>\n",
       "    <tr>\n",
       "      <th>13</th>\n",
       "      <td>2016-10-03</td>\n",
       "      <td>47.8</td>\n",
       "      <td>44.6</td>\n",
       "      <td>47.7</td>\n",
       "      <td>43.9</td>\n",
       "    </tr>\n",
       "    <tr>\n",
       "      <th>14</th>\n",
       "      <td>2016-10-10</td>\n",
       "      <td>47.9</td>\n",
       "      <td>42.1</td>\n",
       "      <td>49.1</td>\n",
       "      <td>43.2</td>\n",
       "    </tr>\n",
       "    <tr>\n",
       "      <th>15</th>\n",
       "      <td>2016-10-17</td>\n",
       "      <td>48.8</td>\n",
       "      <td>41.8</td>\n",
       "      <td>49.8</td>\n",
       "      <td>42.7</td>\n",
       "    </tr>\n",
       "  </tbody>\n",
       "</table>\n",
       "</div>"
      ],
      "text/plain": [
       "         Date  RCP Clinton  RCP Trump  538 Clinton  538 Trump\n",
       "0  2016-07-04         44.9       40.3         48.7       42.2\n",
       "1  2016-07-11         45.4       40.9         48.5       42.3\n",
       "2  2016-07-18         43.8       40.6         47.1       43.7\n",
       "3  2016-07-25         44.1       44.3         46.2       44.8\n",
       "4  2016-08-01         45.9       42.0         47.5       44.3\n",
       "5  2016-08-08         47.3       40.1         49.9       41.9\n",
       "6  2016-08-15         47.8       41.0         49.5       40.9\n",
       "7  2016-08-22         47.0       41.5         48.9       41.7\n",
       "8  2016-08-29         47.2       41.3         48.5       42.4\n",
       "9  2016-09-05         45.9       42.3         47.6       43.2\n",
       "10 2016-09-12         45.9       43.1         46.8       43.1\n",
       "11 2016-09-19         44.9       44.0         46.6       44.4\n",
       "12 2016-09-26         46.6       43.3         46.4       44.9\n",
       "13 2016-10-03         47.8       44.6         47.7       43.9\n",
       "14 2016-10-10         47.9       42.1         49.1       43.2\n",
       "15 2016-10-17         48.8       41.8         49.8       42.7"
      ]
     },
     "execution_count": 29,
     "metadata": {},
     "output_type": "execute_result"
    }
   ],
   "source": [
    "xls = pd.ExcelFile(\"~/Downloads/ElectionData.xlsx\")\n",
    "electionDat = xls.parse(\"Sheet1\")\n",
    "electionDat"
   ]
  },
  {
   "cell_type": "markdown",
   "metadata": {},
   "source": [
    "For the first part of this class we'll be working on the Columns marked RCP Clinton and RCP Trump"
   ]
  },
  {
   "cell_type": "code",
   "execution_count": 30,
   "metadata": {
    "collapsed": false
   },
   "outputs": [
    {
     "data": {
      "text/plain": [
       "0     44.9\n",
       "1     45.4\n",
       "2     43.8\n",
       "3     44.1\n",
       "4     45.9\n",
       "5     47.3\n",
       "6     47.8\n",
       "7     47.0\n",
       "8     47.2\n",
       "9     45.9\n",
       "10    45.9\n",
       "11    44.9\n",
       "12    46.6\n",
       "13    47.8\n",
       "14    47.9\n",
       "15    48.8\n",
       "Name: RCP Clinton, dtype: float64"
      ]
     },
     "execution_count": 30,
     "metadata": {},
     "output_type": "execute_result"
    }
   ],
   "source": [
    "RCPClinton = electionDat[\"RCP Clinton\"]\n",
    "RCPTrump = electionDat[\"RCP Trump\"]\n",
    "RCPClinton"
   ]
  },
  {
   "cell_type": "markdown",
   "metadata": {},
   "source": [
    "Now let's plot the data we just got. For now we'll ignore dates and just focus on week numbers where week 0 is the first week we have data for"
   ]
  },
  {
   "cell_type": "code",
   "execution_count": 125,
   "metadata": {
    "collapsed": false
   },
   "outputs": [
    {
     "data": {
      "text/plain": [
       "[<matplotlib.lines.Line2D at 0x7f5852ad06d8>]"
      ]
     },
     "execution_count": 125,
     "metadata": {},
     "output_type": "execute_result"
    },
    {
     "data": {
      "image/png": "[encoded data removed]",
      "text/plain": [
       "<matplotlib.figure.Figure at 0x7f5852ad07b8>"
      ]
     },
     "metadata": {},
     "output_type": "display_data"
    }
   ],
   "source": [
    "plt.plot(RCPClinton)\n",
    "plt.plot(RCPTrump,Color=\"Red\")"
   ]
  },
  {
   "cell_type": "markdown",
   "metadata": {},
   "source": [
    "Now we want to approximate the data and use that approximation to make a guess at the future data points.\n",
    "A quick google search leads us to the numpy polyfit method. This method requires 2 numpy arrays, one for x values and one for y values so we get arrays for each"
   ]
  },
  {
   "cell_type": "code",
   "execution_count": 100,
   "metadata": {
    "collapsed": false
   },
   "outputs": [
    {
     "name": "stdout",
     "output_type": "stream",
     "text": [
      "[ 0  1  2  3  4  5  6  7  8  9 10 11 12 13 14 15]\n",
      "[ 44.9  45.4  43.8  44.1  45.9  47.3  47.8  47.   47.2  45.9  45.9  44.9\n",
      "  46.6  47.8  47.9  48.8]\n"
     ]
    }
   ],
   "source": [
    "np_indexes = np.array(RCPClinton.index.values)\n",
    "np_clinton = np.array(RCPClinton)\n",
    "print(np_indexes)\n",
    "print(np_clinton)"
   ]
  },
  {
   "cell_type": "markdown",
   "metadata": {},
   "source": [
    "Now we're going to call the numpy polyfit method, which returns an array of coefficents for a polynomial of a degree you provide"
   ]
  },
  {
   "cell_type": "code",
   "execution_count": 109,
   "metadata": {
    "collapsed": false
   },
   "outputs": [
    {
     "data": {
      "text/plain": [
       "array([ -2.10084034e-04,   2.06092437e-01,   4.47955882e+01])"
      ]
     },
     "execution_count": 109,
     "metadata": {},
     "output_type": "execute_result"
    }
   ],
   "source": [
    "coeff = np.polyfit(np_indexes,np_clinton,2)\n",
    "coeff"
   ]
  },
  {
   "cell_type": "markdown",
   "metadata": {},
   "source": [
    "Now we're going to plot our approximation, but how do we plot a polynomial?\n",
    "\n",
    "A quick google search gives up np.polyval which evaluates a polynomial with given coefficents"
   ]
  },
  {
   "cell_type": "code",
   "execution_count": 127,
   "metadata": {
    "collapsed": false
   },
   "outputs": [
    {
     "name": "stdout",
     "output_type": "stream",
     "text": [
      "45.0014705882\n",
      "[ 45.00147059  45.20693277  45.41197479]\n"
     ]
    }
   ],
   "source": [
    "print(np.polyval(coeff,1))\n",
    "print(np.polyval(coeff,[1,2,3]))"
   ]
  },
  {
   "cell_type": "markdown",
   "metadata": {},
   "source": [
    "All Right let's plot our approximation now using numpy.polval()"
   ]
  },
  {
   "cell_type": "code",
   "execution_count": 135,
   "metadata": {
    "collapsed": false
   },
   "outputs": [
    {
     "data": {
      "text/plain": [
       "<matplotlib.collections.PathCollection at 0x7f58528a97b8>"
      ]
     },
     "execution_count": 135,
     "metadata": {},
     "output_type": "execute_result"
    },
    {
     "data": {
      "image/png": "[encoded data removed]",
      "text/plain": [
       "<matplotlib.figure.Figure at 0x7f585287d908>"
      ]
     },
     "metadata": {},
     "output_type": "display_data"
    }
   ],
   "source": [
    "plt.plot(np.polyval(coeff,np_indexes))\n",
    "#plot old data for refrence\n",
    "plt.scatter(np_indexes,np_clinton)"
   ]
  },
  {
   "cell_type": "markdown",
   "metadata": {},
   "source": [
    "All Right now you guys should try this with the data from Trump on your own. The process will be very similar"
   ]
  },
  {
   "cell_type": "code",
   "execution_count": 70,
   "metadata": {
    "collapsed": false
   },
   "outputs": [
    {
     "data": {
      "text/plain": [
       "array([ 40.3,  40.9,  40.6,  44.3,  42. ,  40.1,  41. ,  41.5,  41.3,\n",
       "        42.3,  43.1,  44. ,  43.3,  44.6,  42.1,  41.8])"
      ]
     },
     "execution_count": 70,
     "metadata": {},
     "output_type": "execute_result"
    }
   ],
   "source": [
    "np_trump = np.array(RCPTrump)\n",
    "np_trump"
   ]
  },
  {
   "cell_type": "code",
   "execution_count": 106,
   "metadata": {
    "collapsed": false
   },
   "outputs": [
    {
     "data": {
      "text/plain": [
       "array([ -8.36834734e-03,   2.81113445e-01,   4.06151961e+01])"
      ]
     },
     "execution_count": 106,
     "metadata": {},
     "output_type": "execute_result"
    }
   ],
   "source": [
    "t_coeff = np.polyfit(np_indexes,np_trump,2)\n",
    "t_coeff"
   ]
  },
  {
   "cell_type": "code",
   "execution_count": 107,
   "metadata": {
    "collapsed": false
   },
   "outputs": [
    {
     "data": {
      "text/plain": [
       "<matplotlib.collections.PathCollection at 0x7f5852d511d0>"
      ]
     },
     "execution_count": 107,
     "metadata": {},
     "output_type": "execute_result"
    },
    {
     "data": {
      "image/png": "[encoded data removed]",
      "text/plain": [
       "<matplotlib.figure.Figure at 0x7f5852e07b38>"
      ]
     },
     "metadata": {},
     "output_type": "display_data"
    }
   ],
   "source": [
    "plt.plot(np.polyval(t_coeff,np_indexes))\n",
    "plt.scatter(np_indexes,np_trump)"
   ]
  },
  {
   "cell_type": "markdown",
   "metadata": {},
   "source": [
    "Finally lets graph our approximations together and give them a legend so that they look nice"
   ]
  },
  {
   "cell_type": "code",
   "execution_count": 111,
   "metadata": {
    "collapsed": false
   },
   "outputs": [
    {
     "data": {
      "text/plain": [
       "<matplotlib.legend.Legend at 0x7f5852cd6630>"
      ]
     },
     "execution_count": 111,
     "metadata": {},
     "output_type": "execute_result"
    },
    {
     "data": {
      "image/png": "[encoded data removed]",
      "text/plain": [
       "<matplotlib.figure.Figure at 0x7f58530c76a0>"
      ]
     },
     "metadata": {},
     "output_type": "display_data"
    }
   ],
   "source": [
    "plt.plot(np.polyval(coeff,np_indexes),label = \"Clinton\", color = \"blue\")\n",
    "plt.scatter(np_indexes,np_clinton,color =\"blue\" )\n",
    "plt.plot(np.polyval(t_coeff,np_indexes),label = \"Trump\",color = \"red\")\n",
    "plt.scatter(np_indexes,np_trump,color = \"red\")\n",
    "plt.legend(loc = \"upper left\")\n"
   ]
  },
  {
   "cell_type": "markdown",
   "metadata": {},
   "source": [
    "Now let's try to plot our prediction for how the election will turn out. The easiest way to do this is to extend the array of inedexes to contain 16,17,18 using numpy append"
   ]
  },
  {
   "cell_type": "code",
   "execution_count": 112,
   "metadata": {
    "collapsed": false
   },
   "outputs": [
    {
     "name": "stdout",
     "output_type": "stream",
     "text": [
      "[ 0  1  2  3  4  5  6  7  8  9 10 11 12 13 14 15 16 17 18]\n"
     ]
    },
    {
     "data": {
      "text/plain": [
       "<matplotlib.legend.Legend at 0x7f5852c50588>"
      ]
     },
     "execution_count": 112,
     "metadata": {},
     "output_type": "execute_result"
    },
    {
     "data": {
      "image/png": "[encoded data removed]",
      "text/plain": [
       "<matplotlib.figure.Figure at 0x7f5853155048>"
      ]
     },
     "metadata": {},
     "output_type": "display_data"
    }
   ],
   "source": [
    "new_np_indexes = np.append(np_indexes,[16,17,18])\n",
    "print(new_np_indexes)\n",
    "plt.plot(np.polyval(coeff,new_np_indexes),label = \"Clinton\", color = \"blue\")\n",
    "plt.scatter(np_indexes,np_clinton,color =\"blue\" )\n",
    "plt.plot(np.polyval(t_coeff,new_np_indexes),label = \"Trump\",color = \"red\")\n",
    "plt.scatter(np_indexes,np_trump,color = \"red\")\n",
    "plt.legend(loc = \"upper left\")\n"
   ]
  },
  {
   "cell_type": "markdown",
   "metadata": {},
   "source": [
    "Now Lets write a function to make an approximation and plot it so we can try mutiple degrees of approximation"
   ]
  },
  {
   "cell_type": "code",
   "execution_count": 121,
   "metadata": {
    "collapsed": false
   },
   "outputs": [],
   "source": [
    "def plot_prediction(Clinton,Trump,indexes,Deg):\n",
    "        C_coeff = np.polyfit(indexes,Clinton,Deg)\n",
    "        T_coeff = np.polyfit(indexes,Trump,Deg)\n",
    "        new_indexes = np.append(indexes,[16,17,18])\n",
    "        plt.plot(np.polyval(C_coeff,new_indexes),label = \"Clinton\", color = \"blue\")\n",
    "        plt.scatter(indexes,Clinton,color =\"blue\" )\n",
    "        plt.plot(np.polyval(T_coeff,new_indexes),label = \"Trump\",color = \"red\")\n",
    "        plt.scatter(indexes,Trump,color = \"red\")\n",
    "        plt.legend(loc = \"upper left\")"
   ]
  },
  {
   "cell_type": "code",
   "execution_count": 134,
   "metadata": {
    "collapsed": false
   },
   "outputs": [
    {
     "data": {
      "image/png": "[encoded data removed]",
      "text/plain": [
       "<matplotlib.figure.Figure at 0x7f5852889e80>"
      ]
     },
     "metadata": {},
     "output_type": "display_data"
    }
   ],
   "source": [
    "plot_prediction(np_clinton,np_trump,np_indexes,3)"
   ]
  },
  {
   "cell_type": "markdown",
   "metadata": {},
   "source": [
    "Awesome! Now we're going to give you a chance to play around with the data. Use the 538 data which to make a prediction. Then if you have time, average the 2 sets of data and make a prediciton based off of that data."
   ]
  }
 ],
 "metadata": {
  "kernelspec": {
   "display_name": "Python [Root]",
   "language": "python",
   "name": "Python [Root]"
  },
  "language_info": {
   "codemirror_mode": {
    "name": "ipython",
    "version": 3
   },
   "file_extension": ".py",
   "mimetype": "text/x-python",
   "name": "python",
   "nbconvert_exporter": "python",
   "pygments_lexer": "ipython3",
   "version": "3.5.2"
  }
 },
 "nbformat": 4,
 "nbformat_minor": 0
}
